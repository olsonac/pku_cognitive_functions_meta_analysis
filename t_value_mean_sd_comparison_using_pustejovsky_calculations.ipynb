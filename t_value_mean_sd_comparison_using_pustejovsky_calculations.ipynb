{
 "cells": [
  {
   "cell_type": "markdown",
   "id": "e657bd83",
   "metadata": {},
   "source": [
    "### Show t-value and mean/sd calculations produce similar results\n",
    "\n",
    "This is for the variance calculation, that comes from https://www.jepusto.com/alternative-formulas-for-the-smd/\n",
    "\n",
    "The version of $V_{d}$ based on a t-value is:\n",
    "\n",
    "$ V_{d} = d^{2} (\\frac{1}{t^2} + \\frac{1}{2\\nu}) $\n",
    "\n",
    "which equals:\n",
    "\n",
    "$ V_{d} = \\frac{d^{2}}{t^2} + \\frac{d^{2}}{2\\nu} $\n",
    "\n",
    "The version based on se/sd information is:\n",
    "\n",
    "$ V_{d} = (\\frac{se_{b}}{S})^{2} + \\frac{d^2}{2\\nu} $\n",
    "\n",
    "Since $\\frac{d^2}{2\\nu}$ is the same in both equations we should have:\n",
    "\n",
    "$(\\frac{se_{b}}{S})^{2} = \\frac{d^{2}}{t^{2}}$\n",
    "\n",
    "From _Independent groups with differetn variances_:\n",
    "\n",
    "$(\\frac{se_b}{s_{C}})^{2} = \\frac{s^2_{T}}{s^2_{C}}\\frac{1}{n_{T}} + \\frac{1}{n_{C}}$\n",
    "\n",
    "If $n_{T} \\approx n_{C}$ and $S^{2}_{E} \\approx S^{@2}_{C}$\n",
    "\n",
    "then:\n",
    "\n",
    "$(\\frac{se_{b}}{S})^{2} = \\frac{S^{2}}{S^{2}} \\frac{1}{n} + \\frac{1}{n} = \\frac{2}{n}$\n",
    "\n",
    "so, is $\\frac{2}{n}  = \\frac{d^{2}}{t^{2}}$?\n",
    "\n",
    "$ d = \\frac{\\bar{\\mu_{T}} - \\bar{\\mu_{C}}}{S_{p}} $\n",
    "\n",
    "$ t = \\frac{\\bar{\\mu_{T}} - \\bar{\\mu_{C}}}{S_{p}\\sqrt{\\frac{2}{n}}} $ so \n",
    "\n",
    "$\\frac{d^{2}}{t^{2}} = \\frac{ (\\bar{\\mu_{T}} - \\bar{\\mu_{C}})^{2} / s_{p}^{2}} { (\\bar{\\mu_{T}} - \\bar{\\mu_{C}})^{2} / (s_{p}^{2}) \\times \\frac{1}{(\\frac{2}{n})}}$\n",
    "\n",
    "All of the $\\mu$ and $s_{p}$ terms cancel, leaving:\n",
    "\n",
    "$ \\frac{1}{\\frac{1}{\\frac{2}{n}}}  = \\frac{1}{\\frac{n}{2}} = \\frac{2}{n}$\n",
    "\n",
    "So, yes, the equations are consistent and the values should produce consistent estimates if $n_{C} \\approx n_{T}$ and $S_{C} \\approx S_{T}$\n",
    "\n",
    "Turning to an example in code..."
   ]
  },
  {
   "cell_type": "code",
   "execution_count": 31,
   "id": "387859fd",
   "metadata": {},
   "outputs": [
    {
     "name": "stdout",
     "output_type": "stream",
     "text": [
      "Method 1 - using raw values, not t\n",
      "\n",
      "SD pooled:  16.25622957515057\n",
      "SE_b_over_S_squared:  0.08468674891844255\n",
      "d =  -0.06766636721724606\n",
      "df =  24\n",
      "Method 1 V_d =  0.08478213927786711\n",
      "\n",
      "\n",
      "Method 2 - using t values\n",
      "\n",
      "t =  -0.23923673558786893\n",
      "Method 2 V_d =  0.08009539035942455\n"
     ]
    }
   ],
   "source": [
    "import numpy as np\n",
    "\n",
    "# From Channon et al., 2005\n",
    "# estimate Vd using sd values and using t values\n",
    "\n",
    "X_c = 67.6\n",
    "X_t = 66.5\n",
    "SD_c = 15.8 # set to 16.7 to check exact equivalence of 15.8 for real value \n",
    "SD_t = 16.7\n",
    "N = 25 # for both\n",
    "df = N-1 # df for control since control SD is divisor\n",
    "SD_pooled = np.sqrt((((N-1)*(SD_t**2)) + ((N-1)*(SD_c**2)))   /   (N + N - 2))\n",
    "\n",
    "#####################################\n",
    "\n",
    "print(\"Method 1 - using raw values, not t\\n\")\n",
    "\n",
    "print(\"SD pooled: \",SD_pooled)\n",
    "SE_b_over_S_squared = (SD_t**2)/((SD_c**2) * N) + (1/N)\n",
    "print(\"SE_b_over_S_squared: \",SE_b_over_S_squared)\n",
    "\n",
    "d = (X_t - X_c)/SD_pooled \n",
    "print(\"d = \",d)\n",
    "print(\"df = \",df)\n",
    "V_d1 = SE_b_over_S_squared + ((d**2)/(2*df))\n",
    "print(\"Method 1 V_d = \",V_d1)\n",
    "\n",
    "######################################\n",
    "\n",
    "print(\"\\n\\nMethod 2 - using t values\\n\")\n",
    "# we need a 'd' value -- what is this from the paper? (i.e. which effect size\n",
    "# do they report?) \n",
    "# For testing we use the d from above\n",
    "\n",
    "t_value = (X_t - X_c)/(SD_pooled * np.sqrt(2/N)) # t value will be a given in papers reporting this\n",
    "print(\"t = \",t_value)\n",
    "t2_div_d2 = ((d**2)/(t_value**2))\n",
    "V_d2 = t2_div_d2 + ((d**2)/(2*df))\n",
    "print(\"Method 2 V_d = \",V_d2)\n"
   ]
  },
  {
   "cell_type": "code",
   "execution_count": 43,
   "id": "f555a329",
   "metadata": {},
   "outputs": [
    {
     "name": "stdout",
     "output_type": "stream",
     "text": [
      "Method 1 - using raw values, not t\n",
      "\n",
      "SD pooled:  16.7\n",
      "SE_b_over_S_squared:  0.08\n",
      "d =  -0.06586826347305355\n",
      "g =  -0.06378821304758871\n",
      "df =  24\n",
      "Method 1 V_d =  0.08008476950257927\n",
      "\n",
      "\n",
      "Method 2 - using t values\n",
      "\n",
      "Small sample correction:  0.968421052631579\n",
      "t =  -0.2255253900286109\n",
      "Method 2 V_d =  0.08008476950257927\n"
     ]
    }
   ],
   "source": [
    "# try with g values\n",
    "\n",
    "def SmallSampleCorrection(InputValue):\n",
    "    CorrectionMultiplier = 1 - (3/(4*InputValue - 1))\n",
    "    return(CorrectionMultiplier)\n",
    "\n",
    "# From Channon et al., 2005\n",
    "# estimate Vd using sd values and using t values\n",
    "\n",
    "X_c = 67.6\n",
    "X_t = 66.5\n",
    "SD_c = 16.7 \n",
    "SD_t = 16.7 # set to 16.7 to check exact equivalence of 15.8 for real value \n",
    "N = 25 # for both\n",
    "df = N-1 # df for control since control SD is divisor\n",
    "SD_pooled = np.sqrt((((N-1)*(SD_t**2)) + ((N-1)*(SD_c**2)))   /   (N + N - 2))\n",
    "\n",
    "#####################################\n",
    "\n",
    "print(\"Method 1 - using raw values, not t\\n\")\n",
    "\n",
    "print(\"SD pooled: \",SD_pooled)\n",
    "SE_b_over_S_squared = (SD_t**2)/((SD_c**2) * N) + (1/N)\n",
    "print(\"SE_b_over_S_squared: \",SE_b_over_S_squared)\n",
    "\n",
    "d = (X_t - X_c)/SD_pooled \n",
    "print(\"d = \",d)\n",
    "g = SmallSampleCorrection(df)*d\n",
    "print(\"g = \",g)\n",
    "print(\"df = \",df)\n",
    "V_d1 = SE_b_over_S_squared + ((g**2)/(2*df))\n",
    "print(\"Method 1 V_d = \",V_d1)\n",
    "\n",
    "######################################\n",
    "\n",
    "print(\"\\n\\nMethod 2 - using t values\\n\")\n",
    "# we need a 'd' value -- what is this from the paper? (i.e. which effect size\n",
    "# do they report?) \n",
    "# For testing we use the d from above\n",
    "\n",
    "SSC = SmallSampleCorrection(df)\n",
    "print(\"Small sample correction: \",SSC)\n",
    "t_value = ((X_t - X_c)/(SD_pooled)) * (1/np.sqrt(2/N))  * SSC # t value will be a given in papers reporting this\n",
    "print(\"t = \",t_value)\n",
    "t2_div_d2 = ((g**2)/(t_value**2)) \n",
    "V_d2 = t2_div_d2 + ((g**2)/(2*df))\n",
    "print(\"Method 2 V_d = \",V_d2)"
   ]
  },
  {
   "cell_type": "code",
   "execution_count": 12,
   "id": "ad68284c",
   "metadata": {},
   "outputs": [
    {
     "data": {
      "text/plain": [
       "0.007113712518888703"
      ]
     },
     "execution_count": 12,
     "metadata": {},
     "output_type": "execute_result"
    }
   ],
   "source": [
    "def SmallSampleCorrection(InputValue):\n",
    "    CorrectionMultiplier = 1 - (3/(4*InputValue - 1))\n",
    "    return(CorrectionMultiplier)\n",
    "\n",
    "# using Aitkenhead digits forwards\n",
    "z_diff = -0.33 # mean(PKU_i - control_mean / control_SD) - estimate of g without small sample correction\n",
    "t_value = -4.015\n",
    "d=z_diff\n",
    "g=SmallSampleCorrection(152 + 76 - 2) * d # small sample corrected d = g\n",
    "N_pku = 153 # \n",
    "N_control = 76\n",
    "df_control = 75\n",
    "df_pku = 152\n",
    "\n",
    "Vd = (z_diff**2) * ((1/t_value**2) + (1/(2 * 152)))\n",
    "Vd             "
   ]
  },
  {
   "cell_type": "code",
   "execution_count": 5,
   "id": "00573ab1",
   "metadata": {},
   "outputs": [
    {
     "data": {
      "text/plain": [
       "0.08084520834544433"
      ]
     },
     "execution_count": 5,
     "metadata": {},
     "output_type": "execute_result"
    }
   ],
   "source": [
    "import numpy as np\n",
    "\n",
    "SEb = 1 / np.sqrt(N_pku)\n",
    "SEb"
   ]
  },
  {
   "cell_type": "code",
   "execution_count": 6,
   "id": "beb4b167",
   "metadata": {},
   "outputs": [
    {
     "data": {
      "text/plain": [
       "0.9836167015362393"
      ]
     },
     "execution_count": 6,
     "metadata": {},
     "output_type": "execute_result"
    }
   ],
   "source": [
    "Sc = SEb / np.sqrt(Vd - (d**2 / (2*df_pku)))\n",
    "Sc"
   ]
  },
  {
   "cell_type": "code",
   "execution_count": 7,
   "id": "133659f3",
   "metadata": {},
   "outputs": [
    {
     "data": {
      "text/plain": [
       "0.007113712518888704"
      ]
     },
     "execution_count": 7,
     "metadata": {},
     "output_type": "execute_result"
    }
   ],
   "source": [
    "Vd2 = (SEb/Sc)**2 + (d**2 / (2*df_pku))\n",
    "Vd2"
   ]
  },
  {
   "cell_type": "code",
   "execution_count": 13,
   "id": "60504f93",
   "metadata": {},
   "outputs": [
    {
     "data": {
      "text/plain": [
       "-0.3289036544850498"
      ]
     },
     "execution_count": 13,
     "metadata": {},
     "output_type": "execute_result"
    }
   ],
   "source": [
    "g"
   ]
  }
 ],
 "metadata": {
  "kernelspec": {
   "display_name": "Python 3 (ipykernel)",
   "language": "python",
   "name": "python3"
  },
  "language_info": {
   "codemirror_mode": {
    "name": "ipython",
    "version": 3
   },
   "file_extension": ".py",
   "mimetype": "text/x-python",
   "name": "python",
   "nbconvert_exporter": "python",
   "pygments_lexer": "ipython3",
   "version": "3.9.7"
  }
 },
 "nbformat": 4,
 "nbformat_minor": 5
}
